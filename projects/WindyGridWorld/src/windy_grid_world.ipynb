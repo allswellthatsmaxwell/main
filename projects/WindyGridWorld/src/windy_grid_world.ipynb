{
 "cells": [
  {
   "cell_type": "code",
   "execution_count": 8,
   "metadata": {},
   "outputs": [
    {
     "name": "stdout",
     "output_type": "stream",
     "text": [
      "\u001b[32m\u001b[1m Resolving\u001b[22m\u001b[39m package versions...\n",
      "\u001b[32m\u001b[1m  Updating\u001b[22m\u001b[39m `/opt/julia/environments/v1.3/Project.toml`\n",
      "\u001b[90m [no changes]\u001b[39m\n",
      "\u001b[32m\u001b[1m  Updating\u001b[22m\u001b[39m `/opt/julia/environments/v1.3/Manifest.toml`\n",
      "\u001b[90m [no changes]\u001b[39m\n"
     ]
    },
    {
     "ename": "LoadError",
     "evalue": "invalid redefinition of constant WindyGridWorld",
     "output_type": "error",
     "traceback": [
      "invalid redefinition of constant WindyGridWorld",
      "",
      "Stacktrace:",
      " [1] top-level scope at /home/jovyan/main/projects/windy_grid_world/jl/environment.jl:2",
      " [2] include at ./boot.jl:328 [inlined]",
      " [3] include_relative(::Module, ::String) at ./loading.jl:1105",
      " [4] include(::Module, ::String) at ./Base.jl:31",
      " [5] include(::String) at ./client.jl:424",
      " [6] top-level scope at In[8]:2"
     ]
    }
   ],
   "source": [
    "Pkg.add(\"Reinforce\")\n",
    "include(\"environment.jl\")"
   ]
  },
  {
   "cell_type": "code",
   "execution_count": 4,
   "metadata": {},
   "outputs": [],
   "source": [
    "using Reinforce"
   ]
  },
  {
   "cell_type": "code",
   "execution_count": 7,
   "metadata": {},
   "outputs": [
    {
     "ename": "MethodError",
     "evalue": "MethodError: no method matching WindyGridWorld()",
     "output_type": "error",
     "traceback": [
      "MethodError: no method matching WindyGridWorld()",
      "",
      "Stacktrace:",
      " [1] top-level scope at In[7]:1"
     ]
    }
   ],
   "source": [
    "env = WindyGridWorld()"
   ]
  },
  {
   "cell_type": "code",
   "execution_count": null,
   "metadata": {},
   "outputs": [],
   "source": []
  }
 ],
 "metadata": {
  "kernelspec": {
   "display_name": "Julia 1.3.1",
   "language": "julia",
   "name": "julia-1.3"
  },
  "language_info": {
   "file_extension": ".jl",
   "mimetype": "application/julia",
   "name": "julia",
   "version": "1.3.1"
  }
 },
 "nbformat": 4,
 "nbformat_minor": 4
}
