{
 "cells": [
  {
   "cell_type": "code",
   "execution_count": 1,
   "metadata": {},
   "outputs": [],
   "source": [
    "using Pkg"
   ]
  },
  {
   "cell_type": "code",
   "execution_count": null,
   "metadata": {},
   "outputs": [],
   "source": [
    "Pkg.add(\"Reinforce\")"
   ]
  },
  {
   "cell_type": "code",
   "execution_count": 4,
   "metadata": {},
   "outputs": [
    {
     "name": "stderr",
     "output_type": "stream",
     "text": [
      "┌ Info: Precompiling Reinforce [0376cc21-f8a9-5fcf-8891-fde1415a4fd3]\n",
      "└ @ Base loading.jl:1273\n",
      "ERROR: could not load library \"/opt/julia-1.3.1/lib/julia/sys.so\"\n",
      "/opt/julia-1.3.1/lib/julia/sys.so: failed to map segment from shared object\n",
      "ERROR: LoadError: LoadError: Failed to precompile Arpack [7d9fca2a-8960-54d3-9f78-7d1dccf2cb97] to /opt/julia/compiled/v1.3/Arpack/X5VZL_a8AyY.ji.\n",
      "Stacktrace:\n",
      " [1] error(::String) at ./error.jl:33\n",
      " [2] compilecache(::Base.PkgId, ::String) at ./loading.jl:1283\n",
      " [3] _require(::Base.PkgId) at ./loading.jl:1024\n",
      " [4] require(::Base.PkgId) at ./loading.jl:922\n",
      " [5] require(::Module, ::Symbol) at ./loading.jl:917\n",
      " [6] include at ./boot.jl:328 [inlined]\n",
      " [7] include_relative(::Module, ::String) at ./loading.jl:1105\n",
      " [8] include at ./Base.jl:31 [inlined]\n",
      " [9] include(::String) at /opt/julia/packages/PDMats/oM5dS/src/PDMats.jl:1\n",
      " [10] top-level scope at /opt/julia/packages/PDMats/oM5dS/src/PDMats.jl:52\n",
      " [11] include at ./boot.jl:328 [inlined]\n",
      " [12] include_relative(::Module, ::String) at ./loading.jl:1105\n",
      " [13] include(::Module, ::String) at ./Base.jl:31\n",
      " [14] top-level scope at none:2\n",
      " [15] eval at ./boot.jl:330 [inlined]\n",
      " [16] eval(::Expr) at ./client.jl:425\n",
      " [17] top-level scope at ./none:3\n",
      "in expression starting at /opt/julia/packages/PDMats/oM5dS/src/pdsparsemat.jl:1\n",
      "in expression starting at /opt/julia/packages/PDMats/oM5dS/src/PDMats.jl:51\n",
      "ERROR: LoadError: Failed to precompile PDMats [90014a1f-27ba-587c-ab20-58faa44d9150] to /opt/julia/compiled/v1.3/PDMats/wuzEE_a8AyY.ji.\n",
      "Stacktrace:\n",
      " [1] error(::String) at ./error.jl:33\n",
      " [2] compilecache(::Base.PkgId, ::String) at ./loading.jl:1283\n",
      " [3] _require(::Base.PkgId) at ./loading.jl:1024\n",
      " [4] require(::Base.PkgId) at ./loading.jl:922\n",
      " [5] require(::Module, ::Symbol) at ./loading.jl:917\n",
      " [6] include at ./boot.jl:328 [inlined]\n",
      " [7] include_relative(::Module, ::String) at ./loading.jl:1105\n",
      " [8] include(::Module, ::String) at ./Base.jl:31\n",
      " [9] top-level scope at none:2\n",
      " [10] eval at ./boot.jl:330 [inlined]\n",
      " [11] eval(::Expr) at ./client.jl:425\n",
      " [12] top-level scope at ./none:3\n",
      "in expression starting at /opt/julia/packages/Distributions/6HQ2U/src/Distributions.jl:3\n",
      "ERROR: LoadError: Failed to precompile Distributions [31c24e10-a181-5473-b8eb-7969acd0382f] to /opt/julia/compiled/v1.3/Distributions/xILW0_a8AyY.ji.\n",
      "Stacktrace:\n",
      " [1] error(::String) at ./error.jl:33\n",
      " [2] compilecache(::Base.PkgId, ::String) at ./loading.jl:1283\n",
      " [3] _require(::Base.PkgId) at ./loading.jl:1024\n",
      " [4] require(::Base.PkgId) at ./loading.jl:922\n",
      " [5] require(::Module, ::Symbol) at ./loading.jl:917\n",
      " [6] include at ./boot.jl:328 [inlined]\n",
      " [7] include_relative(::Module, ::String) at ./loading.jl:1105\n",
      " [8] include(::Module, ::String) at ./Base.jl:31\n",
      " [9] top-level scope at none:2\n",
      " [10] eval at ./boot.jl:330 [inlined]\n",
      " [11] eval(::Expr) at ./client.jl:425\n",
      " [12] top-level scope at ./none:3\n",
      "in expression starting at /opt/julia/packages/Reinforce/6gCTl/src/Reinforce.jl:5\n"
     ]
    },
    {
     "ename": "ErrorException",
     "evalue": "Failed to precompile Reinforce [0376cc21-f8a9-5fcf-8891-fde1415a4fd3] to /opt/julia/compiled/v1.3/Reinforce/wvbIr_a8AyY.ji.",
     "output_type": "error",
     "traceback": [
      "Failed to precompile Reinforce [0376cc21-f8a9-5fcf-8891-fde1415a4fd3] to /opt/julia/compiled/v1.3/Reinforce/wvbIr_a8AyY.ji.",
      "",
      "Stacktrace:",
      " [1] error(::String) at ./error.jl:33",
      " [2] compilecache(::Base.PkgId, ::String) at ./loading.jl:1283",
      " [3] _require(::Base.PkgId) at ./loading.jl:1024",
      " [4] require(::Base.PkgId) at ./loading.jl:922",
      " [5] require(::Module, ::Symbol) at ./loading.jl:917",
      " [6] top-level scope at In[4]:1"
     ]
    }
   ],
   "source": [
    "using Reinforce"
   ]
  },
  {
   "cell_type": "code",
   "execution_count": null,
   "metadata": {},
   "outputs": [],
   "source": []
  }
 ],
 "metadata": {
  "kernelspec": {
   "display_name": "Julia 1.3.1",
   "language": "julia",
   "name": "julia-1.3"
  },
  "language_info": {
   "file_extension": ".jl",
   "mimetype": "application/julia",
   "name": "julia",
   "version": "1.3.1"
  }
 },
 "nbformat": 4,
 "nbformat_minor": 4
}
